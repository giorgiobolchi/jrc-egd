{
 "cells": [
  {
   "cell_type": "code",
   "execution_count": 10,
   "metadata": {},
   "outputs": [],
   "source": [
    "# Import libraries\n",
    "import pandas as pd\n",
    "import numpy as np\n",
    "import openai\n",
    "from openai import OpenAI\n",
    "from IPython.display import display, Markdown\n",
    "import os\n",
    " \n",
    "\n",
    "\n",
    "# Define absolute python path\n",
    "import sys\n",
    "sys.path.insert(0, '/Users/giorgiobolchi2/Documents/JRC/LLM') \n"
   ]
  },
  {
   "cell_type": "code",
   "execution_count": null,
   "metadata": {},
   "outputs": [],
   "source": [
    "# Set API token\n",
    "TOKEN = \"eyJhbGciOiJIUzI1NiIsInR5cCI6IkpXVCJ9.eyJpZCI6ImY3NDcxY2MwLTE5NWItNDZhOS1hNjc1LTM0Y2EzY2E1MmI2YSIsImlzcyI6ImdwdGpyYyIsImlhdCI6MTczNzQ1NjU4NywiZXhwIjoxNzUwNDY0MDAwLCJpc19yZXZva2VkIjpmYWxzZSwiYWNjb3VudF9pZCI6IlFXeGxjeTVTUlVKRlEwQmxlSFF1WldNdVpYVnliM0JoTG1WMVMyNXZkMU5FUjNNPSIsInVzZXJuYW1lIjoiQWxlcy5SRUJFQ0BleHQuZWMuZXVyb3BhLmV1IiwicHJvamVjdF9pZCI6Iktub3dTREdzIiwiZGVwYXJ0bWVudCI6IkpSQy5ELjEiLCJxdW90YXMiOlt7Im1vZGVsX25hbWUiOiJncHQtNG8iLCJleHBpcmF0aW9uX2ZyZXF1ZW5jeSI6ImRhaWx5IiwidmFsdWUiOjQwMDAwMH0seyJtb2RlbF9uYW1lIjoiZ3B0LTM1LXR1cmJvLTExMDYiLCJleHBpcmF0aW9uX2ZyZXF1ZW5jeSI6ImRhaWx5IiwidmFsdWUiOjQwMDAwMH0seyJtb2RlbF9uYW1lIjoiZ3B0LTQtMTEwNiIsImV4cGlyYXRpb25fZnJlcXVlbmN5IjoiZGFpbHkiLCJ2YWx1ZSI6NDAwMDAwfV0sImFjY2Vzc19ncm91cHMiOlt7ImlkIjoiNDJkMTUzMTAtNzdlZS00MDgyLTk1NzQtZDZhYTk5YzliZDgzIiwiYWNjZXNzX2dyb3VwIjoiZ2VuZXJhbCJ9XX0.0S3jlmjrBLGPwQaJ4U5F20DpacvyDcK_NsS412BX_Pw\"\n",
    "openai.api_base = \"https://api-gpt.jrc.ec.europa.eu/v1\"\n",
    "openai.api_key = TOKEN\n",
    "\n",
    "client = OpenAI(\n",
    "        api_key = TOKEN,\n",
    "        base_url = \"https://api-gpt.jrc.ec.europa.eu/v1/\"    )"
   ]
  },
  {
   "cell_type": "code",
   "execution_count": null,
   "metadata": {},
   "outputs": [],
   "source": [
    "# Define request function \n",
    "def run_API_request(prompt):\n",
    "\n",
    "    chat_completion = client.chat.completions.create(\n",
    "        messages=[{\"role\": \"user\", \"content\": prompt}],\n",
    "        model=\"gpt-4o\",\n",
    "    )\n",
    "\n",
    "    return chat_completion.choices[0].message.content\n",
    "\n"
   ]
  },
  {
   "cell_type": "code",
   "execution_count": null,
   "metadata": {},
   "outputs": [],
   "source": [
    "# Import NACE data from NACEdata.py file\n",
    "\n",
    "from Data.NACEdata import NACElevel0, NACElevel1, NACElevel2, NACElevel3     \n",
    "\n",
    "# Import a subset of target data\n",
    "df = pd.read_excel('/Users/giorgiobolchi2/Documents/JRC/LLM/Data/XLSX_target_data_v1.2_LLMsubsetxlsx.xlsx')\n",
    "target_list = str(df['Target'].to_list())\n",
    "\n",
    "# doublec check file formats so that they're compatible with the run_API_request function\n",
    "print(type(target_list))\n",
    "print(type(NACElevel0))\n",
    "print(type(NACElevel1))\n",
    "print(type(NACElevel2))\n",
    "print(type(NACElevel3))\n",
    "\n"
   ]
  },
  {
   "cell_type": "code",
   "execution_count": null,
   "metadata": {},
   "outputs": [],
   "source": [
    "\n",
    "prompt = f'''Hello,\n",
    "\n",
    "            Data input: get acquainted with the following data:\n",
    "            - NACE classification categories:  {NACElevel1} + {NACElevel2} +{NACElevel3}.\n",
    "            - List of targets: {target_list}.\n",
    "            \n",
    "            Task: \n",
    "            - For each target, analyse its content description and assign to each target a NACE category for each level (0,1,2,3). \n",
    "\n",
    "            Answer format: provide your answer as a table in csv format please (separator: \";\"), with the following columns:\n",
    "            - Target code (e.g., TA1.9)\n",
    "            - Target content (e.g., The contribution of the sectors covered by the EU ETS with respect to the EU Climate ambition should be of -62 % compared to 2005 (increasing the linear emissions reduction factor from 2.2 % per year up to 4.4 %)) \n",
    "            - NACE_level1 (e.g., D - Electricity, Gas, Steam and Air Conditioning Supply)\n",
    "            - NACE_level1_extra1 (e.g.if other categories overlap)\n",
    "            - NACE_level1_extra2 (e.g.if other categories overlap)\n",
    "            - NACE_level2 (e.g., D35 - Electricity, gas, steam and air conditioning supply)\n",
    "            - NACE_level2_extra1 (e.g.if other categories overlap)\n",
    "            - NACE_level2_extra2 (e.g.if other categories overlap)\n",
    "            - NACE_level_3 (e.g., D35.1 - Electric power generation, transmission and distribution)\n",
    "            - NACE_level_3_extra1 (e.g. if other categories overlap)\n",
    "            - NACE level3_extra2 (e.g. if other categories overlap)\n",
    "            - Justification\n",
    "            - Confidence (e.g. confidence value from 0 to 10 about the assignation choices that are made)\n",
    "\n",
    "            Specifications:\n",
    "            - If there is some overlap, add the multiple categories possibilites (up to maximum 3 per NACE level). \n",
    "            - Include the name of the NACE categories.\n",
    "            - Don't forget to provide the title of the target. If there is no target content, do not invent new content, just state it as empty.\n",
    "            - For each target, write one or max 2 sentences justifying your choice.\n",
    "            - Output only the csv table and no additional commentary text.\n",
    "\n",
    "            Thank you.'''\n",
    "\n",
    "# generate answer\n",
    "answer= run_API_request(prompt)\n"
   ]
  },
  {
   "cell_type": "code",
   "execution_count": null,
   "metadata": {},
   "outputs": [],
   "source": [
    "#print(answer)\n",
    "\n",
    "#print answer in Markdown format\n",
    "display(Markdown(answer))\n"
   ]
  },
  {
   "cell_type": "code",
   "execution_count": null,
   "metadata": {},
   "outputs": [],
   "source": [
    "# Export raw text as csv directly\n",
    "output_path = \"/Users/giorgiobolchi2/Documents/JRC/LLM/Data/Outputs/\"\n",
    "output_name = \"output.csv\"\n",
    "\n",
    "with open((os.path.join(output_path, output_name)), 'w') as f:\n",
    "    f.write(answer)\n"
   ]
  },
  {
   "cell_type": "code",
   "execution_count": 24,
   "metadata": {},
   "outputs": [],
   "source": [
    "\n",
    "# Load the file\n",
    "file= '/Users/giorgiobolchi2/Documents/JRC/LLM/Data/Outputs/0131/clean_trial/0131output_TA1.1_sNone_t0.2.csv'\n",
    "\n",
    "with open(file, 'r') as file:\n",
    "    lines = file.readlines()\n",
    "\n",
    "\n",
    "# Remove the first and last line\n",
    "lines = lines[1:-1]\n",
    "\n",
    "# Save the updated lines to a new text file\n",
    "with open('/Users/giorgiobolchi2/Documents/JRC/LLM/Data/Outputs/0131/clean_trial/0131output_TA1.1_sNone_t0.2.csv', 'w') as file:\n",
    "    file.writelines(lines)\n"
   ]
  },
  {
   "cell_type": "code",
   "execution_count": 25,
   "metadata": {},
   "outputs": [],
   "source": [
    "date ='0131'\n",
    "output_directory = f'/Users/giorgiobolchi2/Documents/JRC/LLM/Data/Outputs/{date}/clean_trial/'\n",
    "\n",
    "\n",
    "\n",
    "for filename in os.listdir(output_directory):\n",
    "\n",
    "    # Check if the file name contains the characters 'TA'\n",
    "    if 'TA' in filename and '.csv' in filename:\n",
    "        \n",
    "        # Open the file for reading and writing\n",
    "        with open(f'{output_directory}{filename}', 'r+') as file:  # r+ = mode to open the file for both reading and writing\n",
    "            lines = file.readlines()\n",
    "            lines = lines[1:-1] # remove first and last row\n",
    "            file.seek(0)  # move the file pointer to the beginning\n",
    "            file.writelines(lines) # write the modified lines back to the file.\n",
    "            file.truncate() # set the length of the file to the current position of the file pointer.\n"
   ]
  },
  {
   "cell_type": "code",
   "execution_count": 7,
   "metadata": {},
   "outputs": [],
   "source": [
    "import pandas as pd\n",
    "\n",
    "\n",
    "file_name = 'estat_nama_10_a64_e'\n",
    "directory = f'/Users/giorgiobolchi2/Documents/JRC/LLM/Data/ESTAT/'\n",
    "\n",
    "\n",
    "tsv = pd.read_csv(f'{directory}{file_name}.tsv', sep='\\t')\n",
    "tsv.to_csv(f'{directory}{file_name}.csv', sep=';', index=True)"
   ]
  }
 ],
 "metadata": {
  "kernelspec": {
   "display_name": "Python 3",
   "language": "python",
   "name": "python3"
  },
  "language_info": {
   "codemirror_mode": {
    "name": "ipython",
    "version": 3
   },
   "file_extension": ".py",
   "mimetype": "text/x-python",
   "name": "python",
   "nbconvert_exporter": "python",
   "pygments_lexer": "ipython3",
   "version": "3.10.0"
  }
 },
 "nbformat": 4,
 "nbformat_minor": 2
}
