{
 "cells": [
  {
   "cell_type": "code",
   "execution_count": 11,
   "metadata": {},
   "outputs": [
    {
     "name": "stdout",
     "output_type": "stream",
     "text": [
      "Name: obsidiantools\n",
      "Version: 0.10.0\n",
      "Summary: Obsidian Tools - a Python interface for Obsidian.md vaults\n",
      "Home-page: https://github.com/mfarragher/obsidiantools\n",
      "Author: Mark Farragher\n",
      "Author-email: \n",
      "License: BSD\n",
      "Location: /Library/Frameworks/Python.framework/Versions/3.13/lib/python3.13/site-packages\n",
      "Requires: beautifulsoup4, bleach, html2text, lxml, markdown, networkx, numpy, pandas, pymdown-extensions, python-frontmatter\n",
      "Required-by: \n"
     ]
    }
   ],
   "source": [
    "# Import libraries\n",
    "\n",
    "\n",
    "import numpy as np\n",
    "import pandas as pd\n",
    "import networkx as nx\n",
    "import os\n",
    "from pathlib import Path\n",
    "\n",
    "import obsidiantools.api as otools\n",
    "!pip3 show obsidiantools"
   ]
  },
  {
   "cell_type": "code",
   "execution_count": 19,
   "metadata": {},
   "outputs": [],
   "source": [
    "# Patch the obsidiantools library to use np.nan instead of np.NaN\n",
    "otools.np = np\n",
    "otools.np.NaN = np.nan"
   ]
  },
  {
   "cell_type": "code",
   "execution_count": 21,
   "metadata": {},
   "outputs": [
    {
     "name": "stdout",
     "output_type": "stream",
     "text": [
      "Directory exists: True\n",
      "Vault connected: True\n",
      "Vault gathered:  True\n"
     ]
    },
    {
     "data": {
      "text/plain": [
       "PosixPath('/Users/giorgiobolchi2/Documents/JRC/Obsidian/EGD_map_v1.2')"
      ]
     },
     "execution_count": 21,
     "metadata": {},
     "output_type": "execute_result"
    }
   ],
   "source": [
    "# Load Obsidian vault\n",
    "\n",
    "VAULT_DIR = Path('/Users/giorgiobolchi2/Documents/JRC/Obsidian/EGD_map_v1.2')\n",
    "\n",
    "vault = otools.Vault(VAULT_DIR).connect().gather()\n",
    "\n",
    "print(f\"Directory exists:\", VAULT_DIR.exists())\n",
    "print(f\"Vault connected: {vault.is_connected}\")\n",
    "print(f\"Vault gathered:  {vault.is_gathered}\")\n",
    "\n",
    "vault.dirpath\n",
    "\n"
   ]
  },
  {
   "cell_type": "code",
   "execution_count": 40,
   "metadata": {},
   "outputs": [
    {
     "name": "stdout",
     "output_type": "stream",
     "text": [
      "Number of files: 283\n",
      "File names: ['TA3.3', 'TA3.7', 'TA3.6', 'TA3.2', 'TA3.9', 'TA3.25', 'TA3.11', 'TA3.40', 'TA3.35', 'TA3.44', 'TA3.15', 'TA3.21', 'TA3.31', 'TA3.45', 'TA3.14', 'TA3.20', 'TA3.30', 'TA3.8', 'TA3.24', 'TA3.10', 'TA3.41', 'TA3.34', 'TA3.17', 'TA3.46', 'TA3.23', 'TA3.33', 'TA3.27', 'TA3.42', 'TA3.13', 'TA3.37', 'TA3.26', 'TA3.43', 'TA3.12', 'TA3.36', 'TA3.16', 'TA3.47', 'TA3.22', 'TA3.32', 'TA3.29', 'TA3.5', 'TA3.39', 'TA3.48', 'TA3.19', 'TA3.1', 'TA3.18', 'TA3.28', 'TA3.4', 'TA3.38', 'TA5.9', 'TA5.8', 'TA5.20', 'TA5.14', 'TA5.7', 'TA5.30', 'TA5.10', 'TA5.24', 'TA5.3', 'TA5.34', 'TA5.11', 'TA5.25', 'TA5.2', 'TA5.35', 'TA5.21', 'TA5.15', 'TA5.6', 'TA5.31', 'TA5.12', 'TA5.26', 'TA5.1', 'TA5.36', 'TA5.22', 'TA5.16', 'TA5.5', 'TA5.32', 'TA5.23', 'TA5.17', 'TA5.4', 'TA5.33', 'TA5.13', 'TA5.27', 'TA5.37', 'TA5.18', 'TA5.28', 'TA5.29', 'TA5.19', 'TA1.5', 'TA1.4', 'TA1.15', 'same as TA1.16', 'TA1.11', 'same as TA2.29', 'TA1.10', 'TA1.14', 'TA1.13', 'TA1.9', 'TA1.16', 'TA1.1-3', 'TA1.12', 'TA1.8', 'TA1.7', 'TA1.6', 'TA7.1', 'TA7.10', 'TA7.24', 'TA7.5', 'TA7.20', 'TA7.14', 'TA7.4', 'TA7.21', 'TA7.15', 'TA7.11', 'TA7.25', 'TA7.7', 'TA7.22', 'TA7.16', 'TA7.3', 'TA7.12', 'TA7.2', 'TA7.13', 'TA7.6', 'TA7.23', 'TA7.17', 'TA7.18', 'TA7.9', 'TA7.19', 'TA7.8', 'TA2.21', 'TA2.15', 'TA2.2', 'TA2.31', 'TA2.11', 'TA2.40', 'TA2.25', 'TA2.6', 'TA2.35', 'TA2.10', 'TA2.24', 'TA2.7', 'TA2.20', 'TA2.14', 'TA2.3', 'TA2.30', 'TA2.8', 'TA2.9', 'TA2.19', 'TA2.29', 'TA2.39', 'TA2.28', 'TA2.38', 'TA2.18', 'TA2.13', 'TA2.27', 'TA2.4', 'TA2.37', 'TA2.23', 'TA2.17', 'TA2.22', 'TA2.16', 'TA2.1', 'TA2.32', 'TA2.12', 'TA2.26', 'TA2.5', 'TA2.36', 'TA4.24', 'TA4.41', 'TA4.10', 'TA4.51', 'TA4.34', 'TA4.14', 'TA4.45', 'TA4.20', 'TA4.30', 'TA4.55', 'TA4.8', 'TA4.15', 'TA4.44', 'TA4.21', 'TA4.31', 'TA4.54', 'TA4.9', 'TA4.25', 'TA4.40', 'TA4.11', 'TA4.50', 'TA4.35', 'TA4.6', 'TA4.2', 'TA4.3', 'TA4.7', 'TA4.28', 'TA4.38', 'TA4.18', 'TA4.49', 'TA4.4', 'TA4.19', 'TA4.48', 'TA4.5', 'TA4.58', 'TA4.29', 'TA4.1', 'TA4.39', 'TA4.47', 'TA4.16', 'TA4.22', 'TA4.32', 'TA4.57', 'TA4.26', 'TA4.12', 'TA4.43', 'TA4.53', 'TA4.36', 'TA4.27', 'TA4.13', 'TA4.42', 'TA4.37', 'TA4.46', 'TA4.17', 'TA4.23', 'TA4.33', 'TA4.56', 'TA6.61', 'TA6.30', 'TA6.55', 'TA6.45', 'TA6.14', 'TA6.20', 'TA6.51', 'TA6.34', 'TA6.24', 'TA6.10', 'TA6.41', 'TA6.50', 'TA6.35', 'TA6.25', 'TA6.11', 'TA6.40', 'TA6.60', 'TA6.31', 'TA6.54', 'TA6.44', 'TA6.15', 'TA6.21', 'TA6.4', 'TA6.5', 'TA6.1', 'TA6.59', 'TA6.49', 'TA6.18', 'TA6.38', 'TA6.2', 'TA6.28', 'TA6.39', 'TA6.3', 'TA6.29', 'TA6.58', 'TA6.7', 'TA6.48', 'TA6.19', 'TA6.53', 'TA6.36', 'TA6.26', 'TA6.43', 'TA6.12', 'TA6.8', 'TA6.32', 'TA6.63', 'TA6.57', 'TA6.16', 'TA6.47', 'TA6.22', 'TA6.9', 'TA6.33', 'TA6.62', 'TA6.56', 'TA6.17', 'TA6.46', 'TA6.23', 'TA6.52', 'TA6.37', 'TA6.27', 'TA6.42', 'TA6.13']\n",
      "Isolated nodes: ['TA3.3', 'TA3.7', 'TA3.6', 'TA3.2', 'TA3.9', 'TA3.25', 'TA3.11', 'TA3.40', 'TA3.35', 'TA3.44', 'TA3.15', 'TA3.21', 'TA3.31', 'TA3.45', 'TA3.14', 'TA3.20', 'TA3.30', 'TA3.8', 'TA3.24', 'TA3.10', 'TA3.41', 'TA3.34', 'TA3.17', 'TA3.46', 'TA3.23', 'TA3.33', 'TA3.27', 'TA3.42', 'TA3.13', 'TA3.37', 'TA3.26', 'TA3.43', 'TA3.12', 'TA3.36', 'TA3.16', 'TA3.47', 'TA3.22', 'TA3.32', 'TA3.29', 'TA3.5', 'TA3.39', 'TA3.48', 'TA3.19', 'TA3.1', 'TA3.18', 'TA3.28', 'TA3.4', 'TA3.38', 'TA5.9', 'TA5.8', 'TA5.20', 'TA5.14', 'TA5.7', 'TA5.30', 'TA5.10', 'TA5.24', 'TA5.3', 'TA5.34', 'TA5.11', 'TA5.25', 'TA5.2', 'TA5.35', 'TA5.21', 'TA5.15', 'TA5.6', 'TA5.31', 'TA5.12', 'TA5.26', 'TA5.1', 'TA5.36', 'TA5.22', 'TA5.16', 'TA5.5', 'TA5.32', 'TA5.23', 'TA5.17', 'TA5.4', 'TA5.33', 'TA5.13', 'TA5.27', 'TA5.37', 'TA5.18', 'TA5.28', 'TA5.29', 'TA5.19', 'TA1.5', 'TA1.4', 'TA1.15', 'same as TA1.16', 'TA1.11', 'same as TA2.29', 'TA1.10', 'TA1.14', 'TA1.13', 'TA1.9', 'TA1.16', 'TA1.1-3', 'TA1.12', 'TA1.8', 'TA1.7', 'TA1.6', 'TA7.1', 'TA7.10', 'TA7.24', 'TA7.5', 'TA7.20', 'TA7.14', 'TA7.4', 'TA7.21', 'TA7.15', 'TA7.11', 'TA7.25', 'TA7.7', 'TA7.22', 'TA7.16', 'TA7.3', 'TA7.12', 'TA7.2', 'TA7.13', 'TA7.6', 'TA7.23', 'TA7.17', 'TA7.18', 'TA7.9', 'TA7.19', 'TA7.8', 'TA2.21', 'TA2.15', 'TA2.2', 'TA2.31', 'TA2.11', 'TA2.40', 'TA2.25', 'TA2.6', 'TA2.35', 'TA2.10', 'TA2.24', 'TA2.7', 'TA2.20', 'TA2.14', 'TA2.3', 'TA2.30', 'TA2.8', 'TA2.9', 'TA2.19', 'TA2.29', 'TA2.39', 'TA2.28', 'TA2.38', 'TA2.18', 'TA2.13', 'TA2.27', 'TA2.4', 'TA2.37', 'TA2.23', 'TA2.17', 'TA2.22', 'TA2.16', 'TA2.1', 'TA2.32', 'TA2.12', 'TA2.26', 'TA2.5', 'TA2.36', 'TA4.24', 'TA4.41', 'TA4.10', 'TA4.51', 'TA4.34', 'TA4.14', 'TA4.45', 'TA4.20', 'TA4.30', 'TA4.55', 'TA4.8', 'TA4.15', 'TA4.44', 'TA4.21', 'TA4.31', 'TA4.54', 'TA4.9', 'TA4.25', 'TA4.40', 'TA4.11', 'TA4.50', 'TA4.35', 'TA4.6', 'TA4.2', 'TA4.3', 'TA4.7', 'TA4.28', 'TA4.38', 'TA4.18', 'TA4.49', 'TA4.4', 'TA4.19', 'TA4.48', 'TA4.5', 'TA4.58', 'TA4.29', 'TA4.1', 'TA4.39', 'TA4.47', 'TA4.16', 'TA4.22', 'TA4.32', 'TA4.57', 'TA4.26', 'TA4.12', 'TA4.43', 'TA4.53', 'TA4.36', 'TA4.27', 'TA4.13', 'TA4.42', 'TA4.37', 'TA4.46', 'TA4.17', 'TA4.23', 'TA4.33', 'TA4.56', 'TA6.61', 'TA6.30', 'TA6.55', 'TA6.45', 'TA6.14', 'TA6.20', 'TA6.51', 'TA6.34', 'TA6.24', 'TA6.10', 'TA6.41', 'TA6.50', 'TA6.35', 'TA6.25', 'TA6.11', 'TA6.40', 'TA6.60', 'TA6.31', 'TA6.54', 'TA6.44', 'TA6.15', 'TA6.21', 'TA6.4', 'TA6.5', 'TA6.1', 'TA6.59', 'TA6.49', 'TA6.18', 'TA6.38', 'TA6.2', 'TA6.28', 'TA6.39', 'TA6.3', 'TA6.29', 'TA6.58', 'TA6.7', 'TA6.48', 'TA6.19', 'TA6.53', 'TA6.36', 'TA6.26', 'TA6.43', 'TA6.12', 'TA6.8', 'TA6.32', 'TA6.63', 'TA6.57', 'TA6.16', 'TA6.47', 'TA6.22', 'TA6.9', 'TA6.33', 'TA6.62', 'TA6.56', 'TA6.17', 'TA6.46', 'TA6.23', 'TA6.52', 'TA6.37', 'TA6.27', 'TA6.42', 'TA6.13']\n",
      "Nonexistent nodes: [] \n",
      "\n",
      "<class 'pandas.core.frame.DataFrame'>\n",
      "Index: 283 entries, TA3.2 to TA5.14\n",
      "Data columns (total 8 columns):\n",
      " #   Column            Non-Null Count  Dtype  \n",
      "---  ------            --------------  -----  \n",
      " 0   rel_filepath      0 non-null      object \n",
      " 1   abs_filepath      0 non-null      object \n",
      " 2   note_exists       283 non-null    bool   \n",
      " 3   n_backlinks       0 non-null      object \n",
      " 4   n_wikilinks       0 non-null      float64\n",
      " 5   n_tags            0 non-null      object \n",
      " 6   n_embedded_files  0 non-null      object \n",
      " 7   modified_time     0 non-null      object \n",
      "dtypes: bool(1), float64(1), object(6)\n",
      "memory usage: 26.1+ KB\n"
     ]
    }
   ],
   "source": [
    "# What files are in the vault\n",
    "\n",
    "print(\"Number of files:\", len(vault.md_file_index))\n",
    "print(\"File names:\", list(vault.md_file_index.keys())) \n",
    "\n",
    "print(f\"Isolated nodes: {vault.isolated_notes}\")\n",
    "print(f\"Nonexistent nodes: {vault.nonexistent_notes} \\n\")\n",
    "\n",
    "df = vault.get_note_metadata()\n",
    "df.info()"
   ]
  }
 ],
 "metadata": {
  "kernelspec": {
   "display_name": "Python 3",
   "language": "python",
   "name": "python3"
  },
  "language_info": {
   "codemirror_mode": {
    "name": "ipython",
    "version": 3
   },
   "file_extension": ".py",
   "mimetype": "text/x-python",
   "name": "python",
   "nbconvert_exporter": "python",
   "pygments_lexer": "ipython3",
   "version": "3.10.0"
  }
 },
 "nbformat": 4,
 "nbformat_minor": 2
}
