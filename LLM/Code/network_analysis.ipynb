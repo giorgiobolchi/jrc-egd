{
 "cells": [
  {
   "cell_type": "code",
   "execution_count": 2,
   "metadata": {},
   "outputs": [],
   "source": [
    "#LIBRARIES\n",
    "\n",
    "import sys\n",
    "import os\n",
    "\n",
    "import pandas as pd\n",
    "import numpy as np\n",
    "\n",
    "import networkx as nx\n",
    "import matplotlib.pyplot as plt\n",
    "\n",
    "\n",
    "# Define absolute python path\n",
    "sys.path.insert(0, '/Users/giorgiobolchi2/Documents/GitHub/jrc-egd/LLM/') \n",
    "\n",
    "\n",
    "\n",
    "#DATA\n",
    "\n",
    "data_path = '/Users/giorgiobolchi2/Documents/GitHub/jrc-egd/LLM/Data/Outputs/0320/0320_network.xlsx'\n",
    "\n",
    "data = pd.read_excel(data_path,sheet_name='reviewed')\n"
   ]
  },
  {
   "cell_type": "code",
   "execution_count": 8,
   "metadata": {},
   "outputs": [
    {
     "name": "stdout",
     "output_type": "stream",
     "text": [
      "Nodes (54): ['Biodiversity Protection & Conservation', 'Food quality', 'Food affordability', 'Critical Raw Materials - Extraction & Import', 'Improve Water Quality', 'Improve Soils Health', 'Pesticides Reduction', 'Transport Logistics', 'Renewable Energy', 'Biodiversity Protection & Conservation - Fisheries', 'Biofuels', 'Energy Efficiency', 'Biodiversity Protection & Conservation - Monitoring', 'Improve Air Quality', 'Waste Reduction - Plastic & Packaging', 'Biodiversity Protection & Conservation - Urban Nature', 'Urban Mobility', 'Energy Efficiency - Buildings', 'GHG Removal', 'Renewable Energy - Hydrogen Production', 'Circularity/Recycling - Critical Raw Materials - Batteries Recycling', 'Terrestrial Ecosystems Restoration - Agricultural Ecosystems', 'GHG Reduction - Transports', 'Circularity/Recycling', 'Net-Zero Technology - Road Vehicles', 'Competitive Agriculture', 'Terrestrial Ecosystems Restoration', 'GHG Reduction - Buildings', 'Terrestrial Ecosystems Restoration - Forests', 'Circularity/Recycling - Municipal Waste', 'Terrestrial Ecosystems Restoration - Rivers', 'Renewable Energy - Heating & Cooling', 'Circularity/Recycling - Plastic & Packaging', 'Food quality - Animal Welfare', 'Marine Ecosystem Restoration', 'Circularity/Recycling - Vehicle Circularity', 'Climate Resilience', 'Waste Reduction', 'Social Security - Sanitation', 'Noise Reduction', 'Net-Zero Technology - Manufacturing', 'Energy Infrastructure', 'Renewable Energy - Ocean/Offshore', 'Hydrogen Distribution', 'Waste Reduction - Food Waste', 'GHG Reduction', 'Social Security - Energy', 'Renewable Energy - Solar', 'Food quality - Healthy Food', 'Other Low-Carbon Fuels', 'Waste Reduction - Municipal Waste', 'Rail', 'Methane', 'Social Security - Workers Protection']\n",
      "Edges (304): [('Biodiversity Protection & Conservation', 'Food quality'), ('Biodiversity Protection & Conservation', 'Food affordability'), ('Biodiversity Protection & Conservation', 'Critical Raw Materials - Extraction & Import'), ('Biodiversity Protection & Conservation', 'Improve Water Quality'), ('Biodiversity Protection & Conservation', 'Improve Soils Health'), ('Biodiversity Protection & Conservation', 'Pesticides Reduction'), ('Biodiversity Protection & Conservation', 'Transport Logistics'), ('Biodiversity Protection & Conservation', 'Renewable Energy'), ('Food quality', 'Hydrogen Distribution'), ('Food quality', 'Biodiversity Protection & Conservation'), ('Food quality', 'Improve Water Quality'), ('Food quality', 'Circularity/Recycling'), ('Food quality', 'Waste Reduction - Food Waste'), ('Food quality', 'GHG Reduction'), ('Food quality', 'Renewable Energy'), ('Food quality', 'Energy Efficiency'), ('Food affordability', 'Terrestrial Ecosystems Restoration - Agricultural Ecosystems'), ('Food affordability', 'Improve Soils Health'), ('Food affordability', 'Waste Reduction - Food Waste'), ('Food affordability', 'GHG Reduction - Transports'), ('Food affordability', 'Social Security - Energy'), ('Critical Raw Materials - Extraction & Import', 'Hydrogen Distribution'), ('Critical Raw Materials - Extraction & Import', 'Competitive Agriculture'), ('Critical Raw Materials - Extraction & Import', 'Improve Soils Health'), ('Critical Raw Materials - Extraction & Import', 'GHG Removal'), ('Critical Raw Materials - Extraction & Import', 'Terrestrial Ecosystems Restoration - Forests'), ('Critical Raw Materials - Extraction & Import', 'Energy Infrastructure'), ('Improve Water Quality', 'Hydrogen Distribution'), ('Improve Water Quality', 'Rail'), ('Improve Water Quality', 'Urban Mobility'), ('Improve Water Quality', 'Waste Reduction - Municipal Waste'), ('Improve Water Quality', 'Circularity/Recycling - Municipal Waste'), ('Improve Water Quality', 'Terrestrial Ecosystems Restoration - Rivers'), ('Improve Water Quality', 'Marine Ecosystem Restoration'), ('Improve Water Quality', 'Food quality'), ('Improve Water Quality', 'Food quality - Healthy Food'), ('Improve Water Quality', 'GHG Reduction'), ('Improve Water Quality', 'GHG Reduction - Transports'), ('Improve Water Quality', 'Energy Efficiency'), ('Improve Water Quality', 'Renewable Energy - Hydrogen Production'), ('Improve Water Quality', 'Social Security - Sanitation'), ('Improve Soils Health', 'Critical Raw Materials - Extraction & Import'), ('Improve Soils Health', 'Biofuels'), ('Improve Soils Health', 'Other Low-Carbon Fuels'), ('Improve Soils Health', 'Net-Zero Technology - Manufacturing'), ('Improve Soils Health', 'Terrestrial Ecosystems Restoration - Agricultural Ecosystems'), ('Improve Soils Health', 'Biodiversity Protection & Conservation'), ('Improve Soils Health', 'Food affordability'), ('Improve Soils Health', 'Pesticides Reduction'), ('Improve Soils Health', 'Competitive Agriculture'), ('Improve Soils Health', 'GHG Removal'), ('Improve Soils Health', 'GHG Reduction - Buildings'), ('Improve Soils Health', 'Energy Efficiency'), ('Pesticides Reduction', 'Renewable Energy - Hydrogen Production'), ('Pesticides Reduction', 'Biodiversity Protection & Conservation'), ('Pesticides Reduction', 'Improve Water Quality'), ('Pesticides Reduction', 'Food quality'), ('Pesticides Reduction', 'Biofuels'), ('Pesticides Reduction', 'Circularity/Recycling'), ('Pesticides Reduction', 'GHG Reduction'), ('Transport Logistics', 'Food affordability'), ('Transport Logistics', 'GHG Reduction - Transports'), ('Transport Logistics', 'Improve Water Quality'), ('Transport Logistics', 'Circularity/Recycling - Municipal Waste'), ('Transport Logistics', 'Terrestrial Ecosystems Restoration - Agricultural Ecosystems'), ('Transport Logistics', 'Improve Air Quality'), ('Transport Logistics', 'Climate Resilience'), ('Transport Logistics', 'Energy Efficiency'), ('Renewable Energy', 'Marine Ecosystem Restoration'), ('Renewable Energy', 'Improve Air Quality'), ('Renewable Energy', 'Improve Soils Health'), ('Renewable Energy', 'GHG Reduction'), ('Biodiversity Protection & Conservation - Fisheries', 'Improve Water Quality'), ('Biodiversity Protection & Conservation - Fisheries', 'Food affordability'), ('Biodiversity Protection & Conservation - Fisheries', 'Biofuels'), ('Biodiversity Protection & Conservation - Fisheries', 'Energy Efficiency'), ('Biofuels', 'Food affordability'), ('Biofuels', 'Improve Water Quality'), ('Biofuels', 'GHG Removal'), ('Biofuels', 'Renewable Energy - Hydrogen Production'), ('Biofuels', 'Food quality'), ('Biofuels', 'Circularity/Recycling - Critical Raw Materials - Batteries Recycling'), ('Biofuels', 'Terrestrial Ecosystems Restoration - Agricultural Ecosystems'), ('Biofuels', 'Improve Air Quality'), ('Biofuels', 'GHG Reduction - Transports'), ('Energy Efficiency', 'Improve Air Quality'), ('Energy Efficiency', 'Improve Soils Health'), ('Energy Efficiency', 'Waste Reduction - Food Waste'), ('Energy Efficiency', 'GHG Reduction'), ('Energy Efficiency', 'Terrestrial Ecosystems Restoration - Forests'), ('Energy Efficiency', 'Food quality'), ('Biodiversity Protection & Conservation - Monitoring', 'Transport Logistics'), ('Biodiversity Protection & Conservation - Monitoring', 'Improve Air Quality'), ('Biodiversity Protection & Conservation - Monitoring', 'Waste Reduction - Plastic & Packaging'), ('Improve Air Quality', 'Renewable Energy'), ('Improve Air Quality', 'Urban Mobility'), ('Improve Air Quality', 'Circularity/Recycling - Plastic & Packaging'), ('Improve Air Quality', 'Terrestrial Ecosystems Restoration - Forests'), ('Improve Air Quality', 'Biodiversity Protection & Conservation'), ('Improve Air Quality', 'Food quality'), ('Improve Air Quality', 'Competitive Agriculture'), ('Waste Reduction - Plastic & Packaging', 'Biofuels'), ('Waste Reduction - Plastic & Packaging', 'Food quality - Healthy Food'), ('Waste Reduction - Plastic & Packaging', 'Improve Water Quality'), ('Waste Reduction - Plastic & Packaging', 'Marine Ecosystem Restoration'), ('Waste Reduction - Plastic & Packaging', 'Renewable Energy - Ocean/Offshore'), ('Biodiversity Protection & Conservation - Urban Nature', 'Improve Air Quality'), ('Biodiversity Protection & Conservation - Urban Nature', 'Urban Mobility'), ('Biodiversity Protection & Conservation - Urban Nature', 'Energy Efficiency - Buildings'), ('Urban Mobility', 'Improve Water Quality'), ('Urban Mobility', 'Biodiversity Protection & Conservation - Urban Nature'), ('Urban Mobility', 'Improve Air Quality'), ('Urban Mobility', 'GHG Reduction - Transports'), ('Urban Mobility', 'Climate Resilience'), ('Energy Efficiency - Buildings', 'Improve Air Quality'), ('Energy Efficiency - Buildings', 'Noise Reduction'), ('Energy Efficiency - Buildings', 'Circularity/Recycling - Plastic & Packaging'), ('Energy Efficiency - Buildings', 'GHG Reduction - Buildings'), ('Energy Efficiency - Buildings', 'Terrestrial Ecosystems Restoration - Agricultural Ecosystems'), ('Energy Efficiency - Buildings', 'Food affordability'), ('GHG Removal', 'Critical Raw Materials - Extraction & Import'), ('GHG Removal', 'Biodiversity Protection & Conservation - Monitoring'), ('GHG Removal', 'Improve Soils Health'), ('GHG Removal', 'Improve Water Quality'), ('GHG Removal', 'Social Security - Sanitation'), ('Renewable Energy - Hydrogen Production', 'GHG Removal'), ('Renewable Energy - Hydrogen Production', 'Critical Raw Materials - Extraction & Import'), ('Renewable Energy - Hydrogen Production', 'Competitive Agriculture'), ('Renewable Energy - Hydrogen Production', 'GHG Reduction - Transports'), ('Renewable Energy - Hydrogen Production', 'Biodiversity Protection & Conservation'), ('Renewable Energy - Hydrogen Production', 'Hydrogen Distribution'), ('Circularity/Recycling - Critical Raw Materials - Batteries Recycling', 'Renewable Energy'), ('Circularity/Recycling - Critical Raw Materials - Batteries Recycling', 'Terrestrial Ecosystems Restoration - Agricultural Ecosystems'), ('Circularity/Recycling - Critical Raw Materials - Batteries Recycling', 'Net-Zero Technology - Road Vehicles'), ('Circularity/Recycling - Critical Raw Materials - Batteries Recycling', 'Food quality'), ('Circularity/Recycling - Critical Raw Materials - Batteries Recycling', 'Improve Soils Health'), ('Circularity/Recycling - Critical Raw Materials - Batteries Recycling', 'Terrestrial Ecosystems Restoration - Forests'), ('Circularity/Recycling - Critical Raw Materials - Batteries Recycling', 'GHG Removal'), ('Terrestrial Ecosystems Restoration - Agricultural Ecosystems', 'Improve Soils Health'), ('Terrestrial Ecosystems Restoration - Agricultural Ecosystems', 'Food quality'), ('Terrestrial Ecosystems Restoration - Agricultural Ecosystems', 'Competitive Agriculture'), ('Terrestrial Ecosystems Restoration - Agricultural Ecosystems', 'Biofuels'), ('Terrestrial Ecosystems Restoration - Agricultural Ecosystems', 'Energy Efficiency - Buildings'), ('GHG Reduction - Transports', 'Food affordability'), ('GHG Reduction - Transports', 'Waste Reduction - Plastic & Packaging'), ('GHG Reduction - Transports', 'Terrestrial Ecosystems Restoration - Agricultural Ecosystems'), ('GHG Reduction - Transports', 'Pesticides Reduction'), ('GHG Reduction - Transports', 'Circularity/Recycling - Vehicle Circularity'), ('GHG Reduction - Transports', 'Renewable Energy - Solar'), ('GHG Reduction - Transports', 'Improve Air Quality'), ('GHG Reduction - Transports', 'Noise Reduction'), ('GHG Reduction - Transports', 'Social Security - Sanitation'), ('Circularity/Recycling', 'Energy Efficiency'), ('Circularity/Recycling', 'Net-Zero Technology - Road Vehicles'), ('Circularity/Recycling', 'Competitive Agriculture'), ('Circularity/Recycling', 'Terrestrial Ecosystems Restoration'), ('Circularity/Recycling', 'GHG Reduction - Buildings'), ('Net-Zero Technology - Road Vehicles', 'Critical Raw Materials - Extraction & Import'), ('Net-Zero Technology - Road Vehicles', 'Terrestrial Ecosystems Restoration - Forests'), ('Net-Zero Technology - Road Vehicles', 'Improve Soils Health'), ('Net-Zero Technology - Road Vehicles', 'Improve Air Quality'), ('Net-Zero Technology - Road Vehicles', 'GHG Reduction - Transports'), ('Net-Zero Technology - Road Vehicles', 'Climate Resilience'), ('Competitive Agriculture', 'Urban Mobility'), ('Competitive Agriculture', 'Critical Raw Materials - Extraction & Import'), ('Competitive Agriculture', 'Terrestrial Ecosystems Restoration - Agricultural Ecosystems'), ('Competitive Agriculture', 'Noise Reduction'), ('Competitive Agriculture', 'Net-Zero Technology - Manufacturing'), ('Competitive Agriculture', 'GHG Reduction - Buildings'), ('Competitive Agriculture', 'Energy Infrastructure'), ('Competitive Agriculture', 'Renewable Energy - Ocean/Offshore'), ('Terrestrial Ecosystems Restoration', 'Improve Soils Health'), ('Terrestrial Ecosystems Restoration', 'Food affordability'), ('GHG Reduction - Buildings', 'Urban Mobility'), ('GHG Reduction - Buildings', 'Food affordability'), ('GHG Reduction - Buildings', 'Waste Reduction - Municipal Waste'), ('GHG Reduction - Buildings', 'Pesticides Reduction'), ('GHG Reduction - Buildings', 'Circularity/Recycling - Municipal Waste'), ('GHG Reduction - Buildings', 'Energy Efficiency - Buildings'), ('GHG Reduction - Buildings', 'Biodiversity Protection & Conservation'), ('GHG Reduction - Buildings', 'Improve Air Quality'), ('GHG Reduction - Buildings', 'Noise Reduction'), ('GHG Reduction - Buildings', 'Social Security - Sanitation'), ('Terrestrial Ecosystems Restoration - Forests', 'Renewable Energy - Hydrogen Production'), ('Terrestrial Ecosystems Restoration - Forests', 'Improve Air Quality'), ('Terrestrial Ecosystems Restoration - Forests', 'Competitive Agriculture'), ('Terrestrial Ecosystems Restoration - Forests', 'Hydrogen Distribution'), ('Circularity/Recycling - Municipal Waste', 'Pesticides Reduction'), ('Circularity/Recycling - Municipal Waste', 'Biodiversity Protection & Conservation - Fisheries'), ('Circularity/Recycling - Municipal Waste', 'Improve Air Quality'), ('Circularity/Recycling - Municipal Waste', 'Terrestrial Ecosystems Restoration - Rivers'), ('Circularity/Recycling - Municipal Waste', 'Renewable Energy - Heating & Cooling'), ('Terrestrial Ecosystems Restoration - Rivers', 'Hydrogen Distribution'), ('Terrestrial Ecosystems Restoration - Rivers', 'Improve Water Quality'), ('Terrestrial Ecosystems Restoration - Rivers', 'Renewable Energy - Hydrogen Production'), ('Renewable Energy - Heating & Cooling', 'Waste Reduction - Municipal Waste'), ('Renewable Energy - Heating & Cooling', 'Food affordability'), ('Renewable Energy - Heating & Cooling', 'Improve Air Quality'), ('Renewable Energy - Heating & Cooling', 'Noise Reduction'), ('Renewable Energy - Heating & Cooling', 'GHG Reduction - Buildings'), ('Renewable Energy - Heating & Cooling', 'Terrestrial Ecosystems Restoration - Agricultural Ecosystems'), ('Renewable Energy - Heating & Cooling', 'Social Security - Energy'), ('Circularity/Recycling - Plastic & Packaging', 'Urban Mobility'), ('Circularity/Recycling - Plastic & Packaging', 'Food quality - Animal Welfare'), ('Circularity/Recycling - Plastic & Packaging', 'Improve Water Quality'), ('Circularity/Recycling - Plastic & Packaging', 'GHG Reduction - Buildings'), ('Circularity/Recycling - Plastic & Packaging', 'Marine Ecosystem Restoration'), ('Food quality - Animal Welfare', 'Net-Zero Technology - Road Vehicles'), ('Food quality - Animal Welfare', 'Biodiversity Protection & Conservation - Fisheries'), ('Food quality - Animal Welfare', 'Improve Air Quality'), ('Food quality - Animal Welfare', 'Circularity/Recycling'), ('Food quality - Animal Welfare', 'GHG Reduction'), ('Food quality - Animal Welfare', 'Renewable Energy - Solar'), ('Marine Ecosystem Restoration', 'Improve Water Quality'), ('Marine Ecosystem Restoration', 'Food quality'), ('Marine Ecosystem Restoration', 'Other Low-Carbon Fuels'), ('Marine Ecosystem Restoration', 'Renewable Energy - Ocean/Offshore'), ('Circularity/Recycling - Vehicle Circularity', 'Food quality'), ('Circularity/Recycling - Vehicle Circularity', 'Improve Air Quality'), ('Climate Resilience', 'Waste Reduction'), ('Climate Resilience', 'Net-Zero Technology - Road Vehicles'), ('Climate Resilience', 'Biodiversity Protection & Conservation - Urban Nature'), ('Climate Resilience', 'Improve Water Quality'), ('Climate Resilience', 'Improve Soils Health'), ('Climate Resilience', 'Social Security - Sanitation'), ('Waste Reduction', 'Transport Logistics'), ('Waste Reduction', 'Food quality'), ('Waste Reduction', 'Social Security - Sanitation'), ('Waste Reduction', 'Renewable Energy - Solar'), ('Social Security - Sanitation', 'Food affordability'), ('Noise Reduction', 'Transport Logistics'), ('Noise Reduction', 'Climate Resilience'), ('Noise Reduction', 'Energy Efficiency'), ('Noise Reduction', 'Biodiversity Protection & Conservation - Urban Nature'), ('Noise Reduction', 'Food quality - Animal Welfare'), ('Net-Zero Technology - Manufacturing', 'Other Low-Carbon Fuels'), ('Net-Zero Technology - Manufacturing', 'Food affordability'), ('Net-Zero Technology - Manufacturing', 'Improve Air Quality'), ('Net-Zero Technology - Manufacturing', 'Terrestrial Ecosystems Restoration'), ('Energy Infrastructure', 'Marine Ecosystem Restoration'), ('Energy Infrastructure', 'Climate Resilience'), ('Energy Infrastructure', 'Improve Air Quality'), ('Energy Infrastructure', 'Net-Zero Technology - Manufacturing'), ('Energy Infrastructure', 'GHG Reduction - Transports'), ('Energy Infrastructure', 'Transport Logistics'), ('Energy Infrastructure', 'Food quality'), ('Renewable Energy - Ocean/Offshore', 'Improve Water Quality'), ('Renewable Energy - Ocean/Offshore', 'Urban Mobility'), ('Hydrogen Distribution', 'Circularity/Recycling - Plastic & Packaging'), ('Hydrogen Distribution', 'Improve Soils Health'), ('Hydrogen Distribution', 'Competitive Agriculture'), ('Hydrogen Distribution', 'Terrestrial Ecosystems Restoration - Rivers'), ('Hydrogen Distribution', 'Improve Air Quality'), ('Hydrogen Distribution', 'GHG Reduction - Transports'), ('Hydrogen Distribution', 'Climate Resilience'), ('Hydrogen Distribution', 'Renewable Energy - Hydrogen Production'), ('Waste Reduction - Food Waste', 'Renewable Energy - Hydrogen Production'), ('Waste Reduction - Food Waste', 'Food affordability'), ('Waste Reduction - Food Waste', 'Improve Water Quality'), ('Waste Reduction - Food Waste', 'Terrestrial Ecosystems Restoration - Agricultural Ecosystems'), ('Waste Reduction - Food Waste', 'Biodiversity Protection & Conservation - Urban Nature'), ('GHG Reduction', 'Marine Ecosystem Restoration'), ('GHG Reduction', 'Improve Soils Health'), ('GHG Reduction', 'Social Security - Sanitation'), ('GHG Reduction', 'Food quality'), ('GHG Reduction', 'Biofuels'), ('GHG Reduction', 'Other Low-Carbon Fuels'), ('GHG Reduction', 'Competitive Agriculture'), ('GHG Reduction', 'Food quality - Healthy Food'), ('GHG Reduction', 'Net-Zero Technology - Manufacturing'), ('GHG Reduction', 'Renewable Energy'), ('GHG Reduction', 'Terrestrial Ecosystems Restoration'), ('GHG Reduction', 'Biodiversity Protection & Conservation - Fisheries'), ('GHG Reduction', 'Improve Air Quality'), ('Social Security - Energy', 'Social Security - Sanitation'), ('Social Security - Energy', 'Food affordability'), ('Renewable Energy - Solar', 'Energy Efficiency'), ('Renewable Energy - Solar', 'Improve Soils Health'), ('Renewable Energy - Solar', 'Other Low-Carbon Fuels'), ('Food quality - Healthy Food', 'Other Low-Carbon Fuels'), ('Food quality - Healthy Food', 'Biodiversity Protection & Conservation - Urban Nature'), ('Food quality - Healthy Food', 'Improve Air Quality'), ('Food quality - Healthy Food', 'Waste Reduction - Food Waste'), ('Food quality - Healthy Food', 'GHG Removal'), ('Food quality - Healthy Food', 'Energy Efficiency - Buildings'), ('Other Low-Carbon Fuels', 'Improve Water Quality'), ('Other Low-Carbon Fuels', 'Energy Efficiency'), ('Other Low-Carbon Fuels', 'Waste Reduction - Municipal Waste'), ('Other Low-Carbon Fuels', 'Biodiversity Protection & Conservation - Fisheries'), ('Other Low-Carbon Fuels', 'Improve Air Quality'), ('Other Low-Carbon Fuels', 'GHG Reduction - Transports'), ('Other Low-Carbon Fuels', 'Climate Resilience'), ('Waste Reduction - Municipal Waste', 'Urban Mobility'), ('Waste Reduction - Municipal Waste', 'Improve Air Quality'), ('Waste Reduction - Municipal Waste', 'GHG Reduction - Transports'), ('Waste Reduction - Municipal Waste', 'Terrestrial Ecosystems Restoration - Rivers'), ('Rail', 'Critical Raw Materials - Extraction & Import'), ('Rail', 'Terrestrial Ecosystems Restoration - Forests'), ('Rail', 'Energy Efficiency'), ('Methane', 'Renewable Energy - Ocean/Offshore'), ('Methane', 'Waste Reduction - Municipal Waste'), ('Methane', 'Pesticides Reduction'), ('Methane', 'GHG Reduction'), ('Social Security - Workers Protection', 'Competitive Agriculture')]\n"
     ]
    }
   ],
   "source": [
    "# Create a directed graph from the DataFrame\n",
    "G = nx.DiGraph()\n",
    "\n",
    "# Add edges to the graph\n",
    "for _, row in data.iterrows():\n",
    "    G.add_edge(row['source_subtheme'], row['impact_subtheme'], impact_type=row['impact_type'])\n",
    "\n",
    "# Now you can perform various analyses on the graph\n",
    "print(f'''Nodes ({len(G.nodes())}): {G.nodes()}''')\n",
    "print(f'''Edges ({len(G.edges())}): {G.edges()}''')\n"
   ]
  },
  {
   "cell_type": "code",
   "execution_count": 10,
   "metadata": {},
   "outputs": [
    {
     "name": "stdout",
     "output_type": "stream",
     "text": [
      "                          Node  In-Degree Centrality  Out-Degree Centrality  \\\n",
      "4        Improve Water Quality              0.301887               0.264151   \n",
      "5         Improve Soils Health              0.264151               0.226415   \n",
      "22  GHG Reduction - Transports              0.207547               0.169811   \n",
      "13         Improve Air Quality              0.433962               0.132075   \n",
      "25     Competitive Agriculture              0.188679               0.150943   \n",
      "2           Food affordability              0.264151               0.094340   \n",
      "1                 Food quality              0.245283               0.150943   \n",
      "45               GHG Reduction              0.132075               0.245283   \n",
      "36          Climate Resilience              0.132075               0.113208   \n",
      "10                    Biofuels              0.113208               0.169811   \n",
      "\n",
      "    Betweenness Centrality  Closeness Centrality  Eigenvector Centrality  \\\n",
      "4                 0.153976              0.540816                0.275728   \n",
      "5                 0.116048              0.519608                0.268291   \n",
      "22                0.095270              0.524752                0.219619   \n",
      "13                0.091990              0.609195                0.334077   \n",
      "25                0.077368              0.504762                0.239776   \n",
      "2                 0.076241              0.530000                0.234245   \n",
      "1                 0.064257              0.546392                0.275377   \n",
      "45                0.056297              0.441667                0.155871   \n",
      "36                0.043631              0.445378                0.105277   \n",
      "10                0.041689              0.438017                0.126157   \n",
      "\n",
      "    PageRank  Katz Centrality  \n",
      "4   0.048946         0.247509  \n",
      "5   0.048893         0.235352  \n",
      "22  0.036833         0.201470  \n",
      "13  0.057831         0.308101  \n",
      "25  0.037594         0.205093  \n",
      "2   0.057708         0.219596  \n",
      "1   0.038866         0.235602  \n",
      "45  0.021190         0.150903  \n",
      "36  0.019266         0.127605  \n",
      "10  0.018453         0.132644  \n"
     ]
    }
   ],
   "source": [
    "# Calculate various centrality measures\n",
    "in_degree_centrality = nx.in_degree_centrality(G)\n",
    "out_degree_centrality = nx.out_degree_centrality(G)\n",
    "betweenness_centrality = nx.betweenness_centrality(G)\n",
    "closeness_centrality = nx.closeness_centrality(G)\n",
    "eigenvector_centrality = nx.eigenvector_centrality(G, max_iter=1000)\n",
    "pagerank = nx.pagerank(G)\n",
    "katz_centrality = nx.katz_centrality(G, alpha=0.1, beta=1.0)\n",
    "\n",
    "# Create a DataFrame combining all centrality measures\n",
    "centrality_df = pd.DataFrame({\n",
    "    'Node': list(G.nodes),\n",
    "    'In-Degree Centrality': [in_degree_centrality[node] for node in G.nodes],\n",
    "    'Out-Degree Centrality': [out_degree_centrality[node] for node in G.nodes],\n",
    "    'Betweenness Centrality': [betweenness_centrality[node] for node in G.nodes],\n",
    "    'Closeness Centrality': [closeness_centrality[node] for node in G.nodes],\n",
    "    'Eigenvector Centrality': [eigenvector_centrality[node] for node in G.nodes],\n",
    "    'PageRank': [pagerank[node] for node in G.nodes],\n",
    "    'Katz Centrality': [katz_centrality[node] for node in G.nodes]\n",
    "})\n",
    "\n",
    "# Sort by a specific centrality measure (e.g., Betweenness Centrality) to get top 10 nodes\n",
    "centrality_df = centrality_df.sort_values(by='Betweenness Centrality', ascending=False)\n",
    "\n",
    "# Get the top 10 nodes\n",
    "top_10_central_nodes = centrality_df.head(10)\n",
    "\n",
    "# Print the table\n",
    "print(top_10_central_nodes)"
   ]
  },
  {
   "cell_type": "code",
   "execution_count": 3,
   "metadata": {},
   "outputs": [
    {
     "name": "stdout",
     "output_type": "stream",
     "text": [
      "Number of nodes: 34\n",
      "Number of edges: 78\n",
      "Average Clustering Coefficient: 0.5706384782076823\n",
      "Graph Diameter: 5\n",
      "Graph Density: 0.13903743315508021\n"
     ]
    },
    {
     "ename": "",
     "evalue": "",
     "output_type": "error",
     "traceback": [
      "\u001b[1;31mThe Kernel crashed while executing code in the the current cell or a previous cell. Please review the code in the cell(s) to identify a possible cause of the failure. Click <a href='https://aka.ms/vscodeJupyterKernelCrash'>here</a> for more info. View Jupyter <a href='command:jupyter.viewOutput'>log</a> for further details."
     ]
    }
   ],
   "source": [
    "# Importing the dataset\n",
    "G = nx.karate_club_graph()\n",
    "\n",
    "# Statistics of the graph\n",
    "print(f\"Number of nodes: {len(G.nodes())}\")\n",
    "print(f\"Number of edges: {len(G.edges())}\")\n",
    "average_clustering = nx.average_clustering(G)\n",
    "print(f\"Average Clustering Coefficient: {average_clustering}\")\n",
    "diameter = nx.diameter(G)\n",
    "print(f\"Graph Diameter: {diameter}\")\n",
    "density = nx.density(G)\n",
    "print(f\"Graph Density: {density}\")\n",
    "# Number of nodes: 34\n",
    "# Number of edges: 78\n",
    "# Average Clustering Coefficient: 0.57\n",
    "# Graph Diameter: 5\n",
    "# Graph Density: 0.14\n",
    "\n",
    "# Plotting graph with Matplotlib and Networkx\n",
    "plt.figure(figsize=(7,5))\n",
    "nx.draw_networkx(G, with_labels=True, font_weight='bold')\n",
    "plt.show()"
   ]
  }
 ],
 "metadata": {
  "kernelspec": {
   "display_name": "Python 3",
   "language": "python",
   "name": "python3"
  },
  "language_info": {
   "codemirror_mode": {
    "name": "ipython",
    "version": 3
   },
   "file_extension": ".py",
   "mimetype": "text/x-python",
   "name": "python",
   "nbconvert_exporter": "python",
   "pygments_lexer": "ipython3",
   "version": "3.10.0"
  }
 },
 "nbformat": 4,
 "nbformat_minor": 2
}
